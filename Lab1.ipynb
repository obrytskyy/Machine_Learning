{
 "cells": [
  {
   "cell_type": "code",
   "execution_count": 1,
   "metadata": {},
   "outputs": [],
   "source": [
    "import numpy as np \n",
    "import pandas as pd \n",
    "from sklearn.model_selection import train_test_split\n",
    "from sklearn import preprocessing\n",
    "from sklearn.metrics import mean_squared_log_error\n",
    "from sklearn.ensemble import RandomForestRegressor\n",
    "import xgboost as xgb\n",
    "from sklearn.ensemble import StackingRegressor"
   ]
  },
  {
   "cell_type": "code",
   "execution_count": 2,
   "metadata": {},
   "outputs": [
    {
     "name": "stdout",
     "output_type": "stream",
     "text": [
      "DATA (318851, 26)\n"
     ]
    },
    {
     "data": {
      "text/html": [
       "<div>\n",
       "<style scoped>\n",
       "    .dataframe tbody tr th:only-of-type {\n",
       "        vertical-align: middle;\n",
       "    }\n",
       "\n",
       "    .dataframe tbody tr th {\n",
       "        vertical-align: top;\n",
       "    }\n",
       "\n",
       "    .dataframe thead th {\n",
       "        text-align: right;\n",
       "    }\n",
       "</style>\n",
       "<table border=\"1\" class=\"dataframe\">\n",
       "  <thead>\n",
       "    <tr style=\"text-align: right;\">\n",
       "      <th></th>\n",
       "      <th>url</th>\n",
       "      <th>id</th>\n",
       "      <th>Lng</th>\n",
       "      <th>Lat</th>\n",
       "      <th>Cid</th>\n",
       "      <th>tradeTime</th>\n",
       "      <th>DOM</th>\n",
       "      <th>followers</th>\n",
       "      <th>totalPrice</th>\n",
       "      <th>price</th>\n",
       "      <th>...</th>\n",
       "      <th>buildingType</th>\n",
       "      <th>constructionTime</th>\n",
       "      <th>renovationCondition</th>\n",
       "      <th>buildingStructure</th>\n",
       "      <th>ladderRatio</th>\n",
       "      <th>elevator</th>\n",
       "      <th>fiveYearsProperty</th>\n",
       "      <th>subway</th>\n",
       "      <th>district</th>\n",
       "      <th>communityAverage</th>\n",
       "    </tr>\n",
       "  </thead>\n",
       "  <tbody>\n",
       "    <tr>\n",
       "      <th>0</th>\n",
       "      <td>https://bj.lianjia.com/chengjiao/101084782030....</td>\n",
       "      <td>101084782030</td>\n",
       "      <td>116.475489</td>\n",
       "      <td>40.01952</td>\n",
       "      <td>1111027376244</td>\n",
       "      <td>2016-08-09</td>\n",
       "      <td>1464.0</td>\n",
       "      <td>106</td>\n",
       "      <td>415.0</td>\n",
       "      <td>31680</td>\n",
       "      <td>...</td>\n",
       "      <td>1.0</td>\n",
       "      <td>2005</td>\n",
       "      <td>3</td>\n",
       "      <td>6</td>\n",
       "      <td>0.217</td>\n",
       "      <td>1.0</td>\n",
       "      <td>0.0</td>\n",
       "      <td>1.0</td>\n",
       "      <td>7</td>\n",
       "      <td>56021.0</td>\n",
       "    </tr>\n",
       "  </tbody>\n",
       "</table>\n",
       "<p>1 rows × 26 columns</p>\n",
       "</div>"
      ],
      "text/plain": [
       "                                                 url            id  \\\n",
       "0  https://bj.lianjia.com/chengjiao/101084782030....  101084782030   \n",
       "\n",
       "          Lng       Lat            Cid   tradeTime     DOM  followers  \\\n",
       "0  116.475489  40.01952  1111027376244  2016-08-09  1464.0        106   \n",
       "\n",
       "   totalPrice  price  ...  buildingType constructionTime renovationCondition  \\\n",
       "0       415.0  31680  ...           1.0             2005                   3   \n",
       "\n",
       "   buildingStructure ladderRatio elevator  fiveYearsProperty subway  district  \\\n",
       "0                  6       0.217      1.0                0.0    1.0         7   \n",
       "\n",
       "   communityAverage  \n",
       "0           56021.0  \n",
       "\n",
       "[1 rows x 26 columns]"
      ]
     },
     "execution_count": 2,
     "metadata": {},
     "output_type": "execute_result"
    }
   ],
   "source": [
    "# Reading the Data\n",
    "df =  pd.read_csv('house_prices.csv',encoding='gbk',low_memory=False)#, errors='ignore')\n",
    "# Shape of the Data\n",
    "print ('DATA',df.shape)\n",
    "df.head(1)"
   ]
  },
  {
   "cell_type": "code",
   "execution_count": 3,
   "metadata": {},
   "outputs": [
    {
     "data": {
      "text/plain": [
       "Index(['url', 'id', 'Lng', 'Lat', 'Cid', 'tradeTime', 'DOM', 'followers',\n",
       "       'totalPrice', 'price', 'square', 'livingRoom', 'drawingRoom', 'kitchen',\n",
       "       'bathRoom', 'floor', 'buildingType', 'constructionTime',\n",
       "       'renovationCondition', 'buildingStructure', 'ladderRatio', 'elevator',\n",
       "       'fiveYearsProperty', 'subway', 'district', 'communityAverage'],\n",
       "      dtype='object')"
      ]
     },
     "execution_count": 3,
     "metadata": {},
     "output_type": "execute_result"
    }
   ],
   "source": [
    "# Columns or Features or Variables\n",
    "df.columns"
   ]
  },
  {
   "cell_type": "code",
   "execution_count": 4,
   "metadata": {},
   "outputs": [
    {
     "data": {
      "text/plain": [
       "url                         0\n",
       "id                          0\n",
       "Lng                         0\n",
       "Lat                         0\n",
       "Cid                         0\n",
       "tradeTime                   0\n",
       "DOM                    157977\n",
       "followers                   0\n",
       "totalPrice                  0\n",
       "price                       0\n",
       "square                      0\n",
       "livingRoom                  0\n",
       "drawingRoom                 0\n",
       "kitchen                     0\n",
       "bathRoom                    0\n",
       "floor                       0\n",
       "buildingType             2021\n",
       "constructionTime            0\n",
       "renovationCondition         0\n",
       "buildingStructure           0\n",
       "ladderRatio                 0\n",
       "elevator                   32\n",
       "fiveYearsProperty          32\n",
       "subway                     32\n",
       "district                    0\n",
       "communityAverage          463\n",
       "dtype: int64"
      ]
     },
     "execution_count": 4,
     "metadata": {},
     "output_type": "execute_result"
    }
   ],
   "source": [
    "# Finding missing Values in each column or feature\n",
    "df.isnull().sum()"
   ]
  },
  {
   "cell_type": "code",
   "execution_count": 5,
   "metadata": {},
   "outputs": [
    {
     "name": "stdout",
     "output_type": "stream",
     "text": [
      "DATA (297701, 16)\n"
     ]
    }
   ],
   "source": [
    "# Step 1: Remove variables with more than 50% missing data\n",
    "df = df.drop(['DOM'], axis=1)\n",
    "# Step 2: Remove observations with any missing values and with values '未知' = None\n",
    "df = df.dropna()\n",
    "df = df[df['constructionTime']!='未知']\n",
    "# Step 3: Removing the columns 'kitchens', 'bathrooms', and 'drawingRooms'\n",
    "df.drop(['kitchen', 'bathRoom', 'drawingRoom', 'url', 'id', 'Cid', 'floor', 'buildingType', 'ladderRatio'], axis=1, inplace=True)\n",
    "# Step 4: Setting the number of living rooms to be within the range of 1 to 4\n",
    "df['livingRoom'] = pd.to_numeric(df['livingRoom'], errors='coerce')\n",
    "df['livingRoom'] = df['livingRoom'].clip(lower=1, upper=4)\n",
    "df.columns\n",
    "print (\"DATA\", df.shape)"
   ]
  },
  {
   "cell_type": "code",
   "execution_count": 6,
   "metadata": {},
   "outputs": [
    {
     "name": "stdout",
     "output_type": "stream",
     "text": [
      "DATA (297701, 17)\n"
     ]
    },
    {
     "data": {
      "text/html": [
       "<div>\n",
       "<style scoped>\n",
       "    .dataframe tbody tr th:only-of-type {\n",
       "        vertical-align: middle;\n",
       "    }\n",
       "\n",
       "    .dataframe tbody tr th {\n",
       "        vertical-align: top;\n",
       "    }\n",
       "\n",
       "    .dataframe thead th {\n",
       "        text-align: right;\n",
       "    }\n",
       "</style>\n",
       "<table border=\"1\" class=\"dataframe\">\n",
       "  <thead>\n",
       "    <tr style=\"text-align: right;\">\n",
       "      <th></th>\n",
       "      <th>Lng</th>\n",
       "      <th>Lat</th>\n",
       "      <th>tradeTime</th>\n",
       "      <th>followers</th>\n",
       "      <th>totalPrice</th>\n",
       "      <th>price</th>\n",
       "      <th>square</th>\n",
       "      <th>livingRoom</th>\n",
       "      <th>renovationCondition</th>\n",
       "      <th>buildingStructure</th>\n",
       "      <th>elevator</th>\n",
       "      <th>fiveYearsProperty</th>\n",
       "      <th>subway</th>\n",
       "      <th>district</th>\n",
       "      <th>communityAverage</th>\n",
       "      <th>distance</th>\n",
       "      <th>age</th>\n",
       "    </tr>\n",
       "  </thead>\n",
       "  <tbody>\n",
       "    <tr>\n",
       "      <th>0</th>\n",
       "      <td>116.475489</td>\n",
       "      <td>40.01952</td>\n",
       "      <td>2016-08-09</td>\n",
       "      <td>106</td>\n",
       "      <td>415.0</td>\n",
       "      <td>31680</td>\n",
       "      <td>131.0</td>\n",
       "      <td>2</td>\n",
       "      <td>3</td>\n",
       "      <td>6</td>\n",
       "      <td>1.0</td>\n",
       "      <td>0.0</td>\n",
       "      <td>1.0</td>\n",
       "      <td>7</td>\n",
       "      <td>56021.0</td>\n",
       "      <td>13.873607</td>\n",
       "      <td>18</td>\n",
       "    </tr>\n",
       "  </tbody>\n",
       "</table>\n",
       "</div>"
      ],
      "text/plain": [
       "          Lng       Lat   tradeTime  followers  totalPrice  price  square  \\\n",
       "0  116.475489  40.01952  2016-08-09        106       415.0  31680   131.0   \n",
       "\n",
       "   livingRoom  renovationCondition  buildingStructure  elevator  \\\n",
       "0           2                    3                  6       1.0   \n",
       "\n",
       "   fiveYearsProperty  subway  district  communityAverage   distance  age  \n",
       "0                0.0     1.0         7           56021.0  13.873607   18  "
      ]
     },
     "execution_count": 6,
     "metadata": {},
     "output_type": "execute_result"
    }
   ],
   "source": [
    "# Creating 'distance' feature\n",
    "# To calculate Distance Between Two Points on Earth \n",
    "from math import radians, cos, sin, asin, sqrt\n",
    "\n",
    "def haversine(lat1, lon1, lat2=39.916668, lon2=116.383331):\n",
    "    # Convert latitude and longitude from degrees to radians\n",
    "    lat1, lon1, lat2, lon2 = map(radians, [lat1, lon1, lat2, lon2])\n",
    "\n",
    "    # Haversine formula\n",
    "    dlon = lon2 - lon1\n",
    "    dlat = lat2 - lat1\n",
    "    a = sin(dlat/2)**2 + cos(lat1) * cos(lat2) * sin(dlon/2)**2\n",
    "    c = 2 * asin(sqrt(a))\n",
    "    r = 6371  # Radius of Earth in kilometers\n",
    "    return c * r\n",
    "\n",
    "df['distance'] = df.apply(lambda x: haversine(x['Lat'], x['Lng']), axis=1)\n",
    "df['constructionTime'] = df['constructionTime'].astype(int)\n",
    "df['age'] = 2023 - pd.to_numeric(df['constructionTime'], errors='coerce')\n",
    "# Drop the original 'constructionTime' column\n",
    "df.drop('constructionTime', axis=1, inplace=True)\n",
    "\n",
    "# Set minimum values\n",
    "min_price = 10000\n",
    "min_square = 20\n",
    "\n",
    "df['price'] = df['price'].clip(lower=min_price)\n",
    "df['square'] = df['square'].clip(lower=min_square)\n",
    "\n",
    "print ('DATA',df.shape)\n",
    "df.head(1)"
   ]
  },
  {
   "cell_type": "code",
   "execution_count": 7,
   "metadata": {},
   "outputs": [
    {
     "name": "stdout",
     "output_type": "stream",
     "text": [
      "DATA (297701, 17)\n",
      "The DATA (297701, 17)\n"
     ]
    },
    {
     "data": {
      "text/plain": [
       "Lng                    float64\n",
       "Lat                    float64\n",
       "tradeTime                int32\n",
       "followers                int32\n",
       "totalPrice               int32\n",
       "price                    int64\n",
       "square                 float64\n",
       "livingRoom               int32\n",
       "renovationCondition      int32\n",
       "buildingStructure        int32\n",
       "elevator                 int32\n",
       "fiveYearsProperty        int32\n",
       "subway                   int32\n",
       "district                 int64\n",
       "communityAverage       float64\n",
       "distance               float64\n",
       "age                      int32\n",
       "dtype: object"
      ]
     },
     "execution_count": 7,
     "metadata": {},
     "output_type": "execute_result"
    }
   ],
   "source": [
    "# 'timeTrade' feature to year base only.\n",
    "df['tradeTime'] = pd.DatetimeIndex(df['tradeTime']).year\n",
    "\n",
    "# Converting features datatype to see outliers\n",
    "df['livingRoom'] = df['livingRoom'].astype(int)\n",
    "df['tradeTime'] = df['tradeTime'].astype(int)\n",
    "df['renovationCondition'] = df['renovationCondition'].astype(int)\n",
    "df['buildingStructure'] = df['buildingStructure'].astype(int)\n",
    "df['elevator'] = df['elevator'].astype(int)\n",
    "df['fiveYearsProperty'] = df['fiveYearsProperty'].astype(int)\n",
    "df['subway'] = df['subway'].astype(int)\n",
    "df['followers']  = df['followers'].astype(int)\n",
    "df['totalPrice']  = df['totalPrice'].astype(int)\n",
    "df['elevator']  = df['elevator'].astype(int)\n",
    "df['fiveYearsProperty']  = df['fiveYearsProperty'].astype(int)\n",
    "df['subway']  = df['subway'].astype(int)\n",
    "df['age']  = df['age'].astype(int)\n",
    "\n",
    "# Reseting the index\n",
    "df.reset_index(inplace=True)\n",
    "df.drop(['index'],axis=1,inplace=True)\n",
    "# Now the remaining data\n",
    "print (\"DATA\", df.shape)\n",
    "df.head()\n",
    "\n",
    "df.dtypes"
   ]
  },
  {
   "cell_type": "code",
   "execution_count": 8,
   "metadata": {},
   "outputs": [
    {
     "name": "stdout",
     "output_type": "stream",
     "text": [
      "DATA (180574, 17)\n"
     ]
    },
    {
     "data": {
      "text/html": [
       "<div>\n",
       "<style scoped>\n",
       "    .dataframe tbody tr th:only-of-type {\n",
       "        vertical-align: middle;\n",
       "    }\n",
       "\n",
       "    .dataframe tbody tr th {\n",
       "        vertical-align: top;\n",
       "    }\n",
       "\n",
       "    .dataframe thead th {\n",
       "        text-align: right;\n",
       "    }\n",
       "</style>\n",
       "<table border=\"1\" class=\"dataframe\">\n",
       "  <thead>\n",
       "    <tr style=\"text-align: right;\">\n",
       "      <th></th>\n",
       "      <th>Lng</th>\n",
       "      <th>Lat</th>\n",
       "      <th>tradeTime</th>\n",
       "      <th>followers</th>\n",
       "      <th>totalPrice</th>\n",
       "      <th>price</th>\n",
       "      <th>square</th>\n",
       "      <th>livingRoom</th>\n",
       "      <th>renovationCondition</th>\n",
       "      <th>buildingStructure</th>\n",
       "      <th>elevator</th>\n",
       "      <th>fiveYearsProperty</th>\n",
       "      <th>subway</th>\n",
       "      <th>district</th>\n",
       "      <th>communityAverage</th>\n",
       "      <th>distance</th>\n",
       "      <th>age</th>\n",
       "    </tr>\n",
       "  </thead>\n",
       "  <tbody>\n",
       "    <tr>\n",
       "      <th>15</th>\n",
       "      <td>116.284755</td>\n",
       "      <td>39.93453</td>\n",
       "      <td>2016</td>\n",
       "      <td>6</td>\n",
       "      <td>212</td>\n",
       "      <td>32981</td>\n",
       "      <td>64.28</td>\n",
       "      <td>1</td>\n",
       "      <td>3</td>\n",
       "      <td>6</td>\n",
       "      <td>1</td>\n",
       "      <td>0</td>\n",
       "      <td>1</td>\n",
       "      <td>8</td>\n",
       "      <td>70141.0</td>\n",
       "      <td>8.637332</td>\n",
       "      <td>14</td>\n",
       "    </tr>\n",
       "  </tbody>\n",
       "</table>\n",
       "</div>"
      ],
      "text/plain": [
       "           Lng       Lat  tradeTime  followers  totalPrice  price  square  \\\n",
       "15  116.284755  39.93453       2016          6         212  32981   64.28   \n",
       "\n",
       "    livingRoom  renovationCondition  buildingStructure  elevator  \\\n",
       "15           1                    3                  6         1   \n",
       "\n",
       "    fiveYearsProperty  subway  district  communityAverage  distance  age  \n",
       "15                  0       1         8           70141.0  8.637332   14  "
      ]
     },
     "execution_count": 8,
     "metadata": {},
     "output_type": "execute_result"
    }
   ],
   "source": [
    "# Function to remove outliers from a DataFrame\n",
    "def remove_outliers(df):\n",
    "    for column in df.select_dtypes(include=['number']).columns:\n",
    "        Q1 = df[column].quantile(0.25)\n",
    "        Q3 = df[column].quantile(0.75)\n",
    "        IQR = Q3 - Q1\n",
    "        lower_bound = Q1 - 1.5 * IQR\n",
    "        upper_bound = Q3 + 1.5 * IQR\n",
    "\n",
    "        # Filter out outliers from the DataFrame\n",
    "        df = df[(df[column] >= lower_bound) & (df[column] <= upper_bound)]\n",
    "    return df\n",
    "\n",
    "# Remove outliers\n",
    "df_clean = remove_outliers(df)\n",
    "\n",
    "# Display the first few rows of the updated DataFrame\n",
    "print ('DATA',df_clean.shape)\n",
    "df_clean.head(1)"
   ]
  },
  {
   "cell_type": "code",
   "execution_count": 9,
   "metadata": {},
   "outputs": [],
   "source": [
    "# Selecting features and target variable\n",
    "X = df_clean[['tradeTime', 'followers', 'square', 'livingRoom',\n",
    "       'renovationCondition', 'buildingStructure',\n",
    "       'elevator', 'fiveYearsProperty', 'subway', 'district',\n",
    "       'communityAverage', 'distance', 'age']]\n",
    "\n",
    "# Standardized the Features\n",
    "X = np.asarray(X)\n",
    "X = preprocessing.StandardScaler().fit(X).transform(X)  \n",
    "\n",
    "# Selecting Target Feature\n",
    "y = df_clean['price']\n",
    "\n",
    "# Splitting the dataset into training and testing sets\n",
    "X_train, X_test, y_train, y_test = train_test_split(X, y, test_size=0.2, random_state=42)"
   ]
  },
  {
   "cell_type": "code",
   "execution_count": 10,
   "metadata": {},
   "outputs": [
    {
     "name": "stdout",
     "output_type": "stream",
     "text": [
      "RMSLE 0.14309\n"
     ]
    }
   ],
   "source": [
    "# Initialize the Random Forest Regressor\n",
    "rf = RandomForestRegressor(random_state=42,n_estimators=900,max_depth=20,min_samples_split=10)\n",
    "\n",
    "# Train the model\n",
    "rf.fit(X_train, y_train)\n",
    "\n",
    "# Making predictions\n",
    "y_pred = rf.predict(X_test)\n",
    "\n",
    "# Evaluating the model\n",
    "print (\"RMSLE {:,.5f}\".format(np.sqrt(mean_squared_log_error( y_pred, y_test))))"
   ]
  },
  {
   "cell_type": "code",
   "execution_count": 11,
   "metadata": {},
   "outputs": [
    {
     "name": "stdout",
     "output_type": "stream",
     "text": [
      "RMSLE 0.14165\n"
     ]
    }
   ],
   "source": [
    "# Initialize the XGBoost\n",
    "xg_reg = xgb.XGBRegressor(objective ='reg:squarederror', min_child_weight = 2, subsample = 1,\n",
    "                          colsample_bytree = 0.8,\n",
    "                          learning_rate = 0.2, n_estimators = 500,\n",
    "                         reg_lambda = 0.45, reg_alpha = 0, gamma = 0.5)\n",
    "\n",
    "# Train the model\n",
    "xg_reg.fit(X_train,y_train)\n",
    "\n",
    "# Making predictions\n",
    "y_pred = xg_reg.predict(X_test)\n",
    "\n",
    "# Evaluating the model\n",
    "print (\"RMSLE {:,.5f}\".format(np.sqrt(mean_squared_log_error( y_pred, y_test))))"
   ]
  },
  {
   "cell_type": "code",
   "execution_count": 12,
   "metadata": {},
   "outputs": [
    {
     "name": "stdout",
     "output_type": "stream",
     "text": [
      "[LightGBM] [Info] Auto-choosing row-wise multi-threading, the overhead of testing was 0.000995 seconds.\n",
      "You can set `force_row_wise=true` to remove the overhead.\n",
      "And if memory is not enough, you can set `force_col_wise=true`.\n",
      "[LightGBM] [Info] Total Bins 901\n",
      "[LightGBM] [Info] Number of data points in the train set: 144459, number of used features: 13\n",
      "[LightGBM] [Info] Start training from score 38756.797950\n",
      "Training until validation scores don't improve for 50 rounds\n",
      "Did not meet early stopping. Best iteration is:\n",
      "[64]\tvalid_0's rmse: 5586.3\tvalid_0's l2: 3.12068e+07\n",
      "RMSLE 0.15102\n"
     ]
    }
   ],
   "source": [
    "# Initialize the Light GBM Model\n",
    "import lightgbm as lgb\n",
    "gbm = lgb.LGBMRegressor(objective='regression',num_leaves=36,learning_rate=0.15,\n",
    "                        n_estimators=64,min_child_weight = 2, colsample_bytree = 0.8,\n",
    "                        reg_lambda = 0.4)\n",
    "\n",
    "# Train the model\n",
    "gbm.fit(X_train, y_train, eval_set=[(X_test, y_test)], eval_metric='l2_root', callbacks=[lgb.early_stopping(50)])\n",
    "\n",
    "# Making predictions\n",
    "y_pred = gbm.predict(X_test, num_iteration=gbm.best_iteration_)\n",
    "\n",
    "print (\"RMSLE {:,.5f}\".format(np.sqrt(mean_squared_log_error( y_pred, y_test))))"
   ]
  },
  {
   "cell_type": "code",
   "execution_count": 13,
   "metadata": {},
   "outputs": [
    {
     "name": "stdout",
     "output_type": "stream",
     "text": [
      "[LightGBM] [Info] Auto-choosing col-wise multi-threading, the overhead of testing was 0.003165 seconds.\n",
      "You can set `force_col_wise=true` to remove the overhead.\n",
      "[LightGBM] [Info] Total Bins 901\n",
      "[LightGBM] [Info] Number of data points in the train set: 144459, number of used features: 13\n",
      "[LightGBM] [Info] Start training from score 38756.797950\n",
      "RMSLE 0.14180\n"
     ]
    }
   ],
   "source": [
    "from sklearn.ensemble import RandomForestRegressor, VotingRegressor\n",
    "from xgboost import XGBRegressor\n",
    "from lightgbm import LGBMRegressor\n",
    "\n",
    "# Define the base models\n",
    "models = [\n",
    "    ('xgb', XGBRegressor(objective ='reg:squarederror', min_child_weight = 2, subsample = 1, colsample_bytree = 0.8, learning_rate = 0.2, n_estimators = 500, reg_lambda = 0.45, reg_alpha = 0, gamma = 0.5)),\n",
    "    ('lgb', LGBMRegressor(objective='regression', num_leaves=36, learning_rate=0.15, n_estimators=64, min_child_weight = 2, colsample_bytree = 0.8, reg_lambda = 0.45)),\n",
    "    ('rf', RandomForestRegressor(random_state=42, n_estimators=900, max_depth=20, n_jobs=-1, min_samples_split=10))\n",
    "]\n",
    "\n",
    "# Create a voting regressor\n",
    "voting_model = VotingRegressor(estimators=models)\n",
    "\n",
    "\n",
    "# Training the voting regressor\n",
    "voting_model.fit(X_train, y_train)\n",
    "\n",
    "# Making predictions and evaluating the model\n",
    "predictions = voting_model.predict(X_test)\n",
    "\n",
    "print (\"RMSLE {:,.5f}\".format(np.sqrt(mean_squared_log_error(predictions, y_test))))"
   ]
  },
  {
   "cell_type": "code",
   "execution_count": 14,
   "metadata": {},
   "outputs": [
    {
     "name": "stdout",
     "output_type": "stream",
     "text": [
      "[LightGBM] [Info] Auto-choosing row-wise multi-threading, the overhead of testing was 0.001262 seconds.\n",
      "You can set `force_row_wise=true` to remove the overhead.\n",
      "And if memory is not enough, you can set `force_col_wise=true`.\n",
      "[LightGBM] [Info] Total Bins 901\n",
      "[LightGBM] [Info] Number of data points in the train set: 144459, number of used features: 13\n",
      "[LightGBM] [Info] Start training from score 38756.797950\n",
      "[LightGBM] [Info] Auto-choosing col-wise multi-threading, the overhead of testing was 0.003250 seconds.\n",
      "You can set `force_col_wise=true` to remove the overhead.\n",
      "[LightGBM] [Info] Total Bins 901\n",
      "[LightGBM] [Info] Number of data points in the train set: 115567, number of used features: 13\n",
      "[LightGBM] [Info] Start training from score 38725.864062\n",
      "[LightGBM] [Info] Auto-choosing row-wise multi-threading, the overhead of testing was 0.000897 seconds.\n",
      "You can set `force_row_wise=true` to remove the overhead.\n",
      "And if memory is not enough, you can set `force_col_wise=true`.\n",
      "[LightGBM] [Info] Total Bins 900\n",
      "[LightGBM] [Info] Number of data points in the train set: 115567, number of used features: 13\n",
      "[LightGBM] [Info] Start training from score 38796.207256\n",
      "[LightGBM] [Info] Auto-choosing col-wise multi-threading, the overhead of testing was 0.002677 seconds.\n",
      "You can set `force_col_wise=true` to remove the overhead.\n",
      "[LightGBM] [Info] Total Bins 901\n",
      "[LightGBM] [Info] Number of data points in the train set: 115567, number of used features: 13\n",
      "[LightGBM] [Info] Start training from score 38753.490901\n",
      "[LightGBM] [Info] Auto-choosing row-wise multi-threading, the overhead of testing was 0.000934 seconds.\n",
      "You can set `force_row_wise=true` to remove the overhead.\n",
      "And if memory is not enough, you can set `force_col_wise=true`.\n",
      "[LightGBM] [Info] Total Bins 901\n",
      "[LightGBM] [Info] Number of data points in the train set: 115567, number of used features: 13\n",
      "[LightGBM] [Info] Start training from score 38769.221664\n",
      "[LightGBM] [Info] Auto-choosing col-wise multi-threading, the overhead of testing was 0.002708 seconds.\n",
      "You can set `force_col_wise=true` to remove the overhead.\n",
      "[LightGBM] [Info] Total Bins 900\n",
      "[LightGBM] [Info] Number of data points in the train set: 115568, number of used features: 13\n",
      "[LightGBM] [Info] Start training from score 38739.206017\n",
      "RMSLE 0.14380\n"
     ]
    }
   ],
   "source": [
    "from sklearn.ensemble import RandomForestRegressor, VotingRegressor\n",
    "from xgboost import XGBRegressor\n",
    "from lightgbm import LGBMRegressor\n",
    "\n",
    "# Define the base models\n",
    "models = [\n",
    "    ('xgb', XGBRegressor(objective ='reg:squarederror', min_child_weight = 2, subsample = 1, colsample_bytree = 0.8, learning_rate = 0.2, n_estimators = 500, reg_lambda = 0.45, reg_alpha = 0, gamma = 0.5)),\n",
    "    ('lgb', LGBMRegressor(objective='regression', num_leaves=36, learning_rate=0.15, n_estimators=64, min_child_weight = 2, colsample_bytree = 0.8, reg_lambda = 0.45))\n",
    "]\n",
    "\n",
    "# Stacking the models with a final RandomForest Regressor as a meta-learner\n",
    "stacked_model = StackingRegressor(\n",
    "    estimators=models,\n",
    "    final_estimator=RandomForestRegressor(random_state=42, n_estimators=900, max_depth=20, n_jobs=-1, min_samples_split=10)\n",
    ")\n",
    "\n",
    "\n",
    "# Training the voting regressor\n",
    "stacked_model.fit(X_train, y_train)\n",
    "\n",
    "# Making predictions and evaluating the model\n",
    "predictions = stacked_model.predict(X_test)\n",
    "\n",
    "print (\"RMSLE {:,.5f}\".format(np.sqrt(mean_squared_log_error(predictions, y_test))))"
   ]
  }
 ],
 "metadata": {
  "kernelspec": {
   "display_name": "Python 3",
   "language": "python",
   "name": "python3"
  },
  "language_info": {
   "codemirror_mode": {
    "name": "ipython",
    "version": 3
   },
   "file_extension": ".py",
   "mimetype": "text/x-python",
   "name": "python",
   "nbconvert_exporter": "python",
   "pygments_lexer": "ipython3",
   "version": "3.10.1"
  }
 },
 "nbformat": 4,
 "nbformat_minor": 2
}
