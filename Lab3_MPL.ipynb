{
 "cells": [
  {
   "cell_type": "code",
   "execution_count": null,
   "id": "b100e172",
   "metadata": {},
   "outputs": [],
   "source": [
    "\n",
    "import numpy as np\n",
    "import pandas as pd\n",
    "import matplotlib.pyplot as plt\n",
    "import seaborn as sns\n",
    "import tensorflow as tf\n",
    "from tensorflow.keras.models import Sequential\n",
    "from tensorflow.keras.layers import Dense, Dropout\n",
    "from tensorflow.keras.callbacks import EarlyStopping\n",
    "from sklearn.model_selection import train_test_split\n",
    "from sklearn.preprocessing import StandardScaler\n",
    "\n",
    "import warnings\n",
    "warnings.filterwarnings('ignore', category=DeprecationWarning)"
   ]
  },
  {
   "cell_type": "code",
   "execution_count": null,
   "id": "0a65abd4",
   "metadata": {},
   "outputs": [],
   "source": [
    "\n",
    "# Reading the Data\n",
    "df =  pd.read_csv('house_prices.csv',encoding='gbk',low_memory=False)#, errors='ignore')\n",
    "# Shape of the Data\n",
    "print ('DATA',df.shape)\n",
    "df.head(1)\n",
    "\n",
    "# Step 1: Remove variables with more than 50% missing data\n",
    "df = df.drop(['DOM'], axis=1)\n",
    "# Step 2: Remove observations with any missing values and with values '未知' = None\n",
    "df = df.dropna()\n",
    "df = df[df['constructionTime']!='未知']\n",
    "# Step 3: Removing the columns 'kitchens', 'bathrooms', and 'drawingRooms'\n",
    "df.drop(['kitchen', 'bathRoom', 'drawingRoom', 'url', 'id', 'Cid', 'floor', 'buildingType', 'ladderRatio'], axis=1, inplace=True)\n",
    "# Step 4: Setting the number of living rooms to be within the range of 1 to 4\n",
    "df['livingRoom'] = pd.to_numeric(df['livingRoom'], errors='coerce')\n",
    "df['livingRoom'] = df['livingRoom'].clip(lower=1, upper=4)\n",
    "df.columns\n",
    "print (\"DATA\", df.shape)\n",
    "\n",
    "# Creating 'distance' feature\n",
    "# To calculate Distance Between Two Points on Earth \n",
    "from math import radians, cos, sin, asin, sqrt\n",
    "\n",
    "def haversine(lat1, lon1, lat2=39.916668, lon2=116.383331):\n",
    "    # Convert latitude and longitude from degrees to radians\n",
    "    lat1, lon1, lat2, lon2 = map(radians, [lat1, lon1, lat2, lon2])\n",
    "\n",
    "    # Haversine formula\n",
    "    dlon = lon2 - lon1\n",
    "    dlat = lat2 - lat1\n",
    "    a = sin(dlat/2)**2 + cos(lat1) * cos(lat2) * sin(dlon/2)**2\n",
    "    c = 2 * asin(sqrt(a))\n",
    "    r = 6371  # Radius of Earth in kilometers\n",
    "    return c * r\n",
    "\n",
    "df['distance'] = df.apply(lambda x: haversine(x['Lat'], x['Lng']), axis=1)\n",
    "df['constructionTime'] = df['constructionTime'].astype(int)\n",
    "df['age'] = 2023 - pd.to_numeric(df['constructionTime'], errors='coerce')\n",
    "# Drop the original 'constructionTime' column\n",
    "df.drop('constructionTime', axis=1, inplace=True)\n",
    "\n",
    "# Set minimum values\n",
    "min_price = 10000\n",
    "min_square = 20\n",
    "\n",
    "df['price'] = df['price'].clip(lower=min_price)\n",
    "df['square'] = df['square'].clip(lower=min_square)\n",
    "\n",
    "print ('DATA',df.shape)\n",
    "df.head(1)\n",
    "\n",
    "# 'timeTrade' feature to year base only.\n",
    "df['tradeTime'] = pd.DatetimeIndex(df['tradeTime']).year\n",
    "\n",
    "# Converting features datatype to see outliers\n",
    "df['livingRoom'] = df['livingRoom'].astype(int)\n",
    "df['tradeTime'] = df['tradeTime'].astype(int)\n",
    "df['renovationCondition'] = df['renovationCondition'].astype(int)\n",
    "df['buildingStructure'] = df['buildingStructure'].astype(int)\n",
    "df['elevator'] = df['elevator'].astype(int)\n",
    "df['fiveYearsProperty'] = df['fiveYearsProperty'].astype(int)\n",
    "df['subway'] = df['subway'].astype(int)\n",
    "df['followers']  = df['followers'].astype(int)\n",
    "df['totalPrice']  = df['totalPrice'].astype(int)\n",
    "df['elevator']  = df['elevator'].astype(int)\n",
    "df['fiveYearsProperty']  = df['fiveYearsProperty'].astype(int)\n",
    "df['subway']  = df['subway'].astype(int)\n",
    "df['age']  = df['age'].astype(int)\n",
    "\n",
    "# Reseting the index\n",
    "df.reset_index(inplace=True)\n",
    "df.drop(['index'],axis=1,inplace=True)\n",
    "# Now the remaining data\n",
    "print (\"DATA\", df.shape)\n",
    "df.head()\n",
    "\n",
    "df.dtypes"
   ]
  },
  {
   "cell_type": "code",
   "execution_count": null,
   "id": "c8b874eb",
   "metadata": {},
   "outputs": [],
   "source": [
    "from sklearn.model_selection import train_test_split\n",
    "from sklearn.preprocessing import StandardScaler\n",
    "\n",
    "X = df.drop('totalPrice', axis=1)\n",
    "y = df['totalPrice']\n",
    "\n",
    "# Splitting the dataset into training and testing sets\n",
    "X_train, X_test, y_train, y_test = train_test_split(X, y, test_size=0.2, random_state=42)\n",
    "\n",
    "# Standardizing the data\n",
    "scaler = StandardScaler()\n",
    "X_train = scaler.fit_transform(X_train)\n",
    "X_test = scaler.transform(X_test)"
   ]
  },
  {
   "cell_type": "code",
   "execution_count": null,
   "id": "b93578f1",
   "metadata": {},
   "outputs": [],
   "source": [
    "\n",
    "model = Sequential([\n",
    "    Dense(128, activation='relu', input_shape=(X_train.shape[1],)),\n",
    "    Dropout(0.5),\n",
    "    Dense(64, activation='relu'),\n",
    "    Dropout(0.5),\n",
    "    Dense(32, activation='relu'),\n",
    "    Dense(1)\n",
    "])\n"
   ]
  },
  {
   "cell_type": "code",
   "execution_count": null,
   "id": "f4e23e89",
   "metadata": {},
   "outputs": [],
   "source": [
    "\n",
    "model.compile(optimizer='adam', loss='mean_squared_error')\n"
   ]
  },
  {
   "cell_type": "code",
   "execution_count": null,
   "id": "f932b687",
   "metadata": {},
   "outputs": [],
   "source": [
    "\n",
    "early_stopping = EarlyStopping(monitor='val_loss', patience=10, restore_best_weights=True)\n"
   ]
  },
  {
   "cell_type": "code",
   "execution_count": null,
   "id": "25033076",
   "metadata": {},
   "outputs": [],
   "source": [
    "\n",
    "history = model.fit(X_train, y_train, epochs=100, batch_size=32, validation_split=0.2, callbacks=[early_stopping], verbose=2)\n"
   ]
  },
  {
   "cell_type": "code",
   "execution_count": null,
   "metadata": {},
   "outputs": [],
   "source": [
    "from sklearn.metrics import mean_squared_log_error\n",
    "from numpy import sqrt\n",
    "\n",
    "# Function to calculate RMSLE\n",
    "def rmsle(y_true, y_pred):\n",
    "    return sqrt(mean_squared_log_error(y_true, y_pred))\n",
    "\n",
    "# Predicting on the test set\n",
    "y_pred = model.predict(X_test)\n",
    "\n",
    "# Calculating RMSLE\n",
    "test_rmsle = rmsle(y_test, y_pred)\n",
    "print('Test RMSLE:', test_rmsle)"
   ]
  },
  {
   "cell_type": "code",
   "execution_count": null,
   "id": "8c966caf",
   "metadata": {},
   "outputs": [],
   "source": [
    "\n",
    "plt.plot(history.history['loss'], label='Training loss')\n",
    "plt.plot(history.history['val_loss'], label='Validation loss')\n",
    "plt.legend()\n",
    "plt.show()\n"
   ]
  },
  {
   "cell_type": "code",
   "execution_count": null,
   "metadata": {},
   "outputs": [],
   "source": [
    "import matplotlib.pyplot as plt\n",
    "\n",
    "plt.figure(figsize=(10, 6))\n",
    "plt.scatter(y_test, y_pred, alpha=0.5)\n",
    "plt.plot([y_test.min(), y_test.max()], [y_test.min(), y_test.max()], 'k--', lw=4)\n",
    "plt.xlabel('True Values')\n",
    "plt.ylabel('Predicted Values')\n",
    "plt.title('True vs. Predicted Values')\n",
    "plt.show()\n"
   ]
  }
 ],
 "metadata": {
  "kernelspec": {
   "display_name": "Python 3",
   "language": "python",
   "name": "python3"
  },
  "language_info": {
   "codemirror_mode": {
    "name": "ipython",
    "version": 3
   },
   "file_extension": ".py",
   "mimetype": "text/x-python",
   "name": "python",
   "nbconvert_exporter": "python",
   "pygments_lexer": "ipython3",
   "version": "3.10.1"
  }
 },
 "nbformat": 4,
 "nbformat_minor": 5
}
