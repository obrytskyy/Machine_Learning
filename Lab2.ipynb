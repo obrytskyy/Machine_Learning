{
 "cells": [
  {
   "cell_type": "code",
   "execution_count": 1,
   "metadata": {},
   "outputs": [],
   "source": [
    "import numpy as np \n",
    "import pandas as pd \n",
    "from sklearn.model_selection import train_test_split\n",
    "from sklearn import preprocessing\n",
    "from sklearn.metrics import mean_squared_log_error\n",
    "from sklearn.ensemble import RandomForestRegressor\n",
    "import xgboost as xgb\n",
    "from sklearn.ensemble import StackingRegressor"
   ]
  },
  {
   "cell_type": "code",
   "execution_count": 2,
   "metadata": {},
   "outputs": [
    {
     "name": "stdout",
     "output_type": "stream",
     "text": [
      "DATA (318851, 26)\n"
     ]
    },
    {
     "data": {
      "text/html": [
       "<div>\n",
       "<style scoped>\n",
       "    .dataframe tbody tr th:only-of-type {\n",
       "        vertical-align: middle;\n",
       "    }\n",
       "\n",
       "    .dataframe tbody tr th {\n",
       "        vertical-align: top;\n",
       "    }\n",
       "\n",
       "    .dataframe thead th {\n",
       "        text-align: right;\n",
       "    }\n",
       "</style>\n",
       "<table border=\"1\" class=\"dataframe\">\n",
       "  <thead>\n",
       "    <tr style=\"text-align: right;\">\n",
       "      <th></th>\n",
       "      <th>url</th>\n",
       "      <th>id</th>\n",
       "      <th>Lng</th>\n",
       "      <th>Lat</th>\n",
       "      <th>Cid</th>\n",
       "      <th>tradeTime</th>\n",
       "      <th>DOM</th>\n",
       "      <th>followers</th>\n",
       "      <th>totalPrice</th>\n",
       "      <th>price</th>\n",
       "      <th>...</th>\n",
       "      <th>buildingType</th>\n",
       "      <th>constructionTime</th>\n",
       "      <th>renovationCondition</th>\n",
       "      <th>buildingStructure</th>\n",
       "      <th>ladderRatio</th>\n",
       "      <th>elevator</th>\n",
       "      <th>fiveYearsProperty</th>\n",
       "      <th>subway</th>\n",
       "      <th>district</th>\n",
       "      <th>communityAverage</th>\n",
       "    </tr>\n",
       "  </thead>\n",
       "  <tbody>\n",
       "    <tr>\n",
       "      <th>0</th>\n",
       "      <td>https://bj.lianjia.com/chengjiao/101084782030....</td>\n",
       "      <td>101084782030</td>\n",
       "      <td>116.475489</td>\n",
       "      <td>40.019520</td>\n",
       "      <td>1111027376244</td>\n",
       "      <td>2016-08-09</td>\n",
       "      <td>1464.0</td>\n",
       "      <td>106</td>\n",
       "      <td>415.0</td>\n",
       "      <td>31680</td>\n",
       "      <td>...</td>\n",
       "      <td>1.0</td>\n",
       "      <td>2005</td>\n",
       "      <td>3</td>\n",
       "      <td>6</td>\n",
       "      <td>0.217</td>\n",
       "      <td>1.0</td>\n",
       "      <td>0.0</td>\n",
       "      <td>1.0</td>\n",
       "      <td>7</td>\n",
       "      <td>56021.0</td>\n",
       "    </tr>\n",
       "    <tr>\n",
       "      <th>1</th>\n",
       "      <td>https://bj.lianjia.com/chengjiao/101086012217....</td>\n",
       "      <td>101086012217</td>\n",
       "      <td>116.453917</td>\n",
       "      <td>39.881534</td>\n",
       "      <td>1111027381879</td>\n",
       "      <td>2016-07-28</td>\n",
       "      <td>903.0</td>\n",
       "      <td>126</td>\n",
       "      <td>575.0</td>\n",
       "      <td>43436</td>\n",
       "      <td>...</td>\n",
       "      <td>1.0</td>\n",
       "      <td>2004</td>\n",
       "      <td>4</td>\n",
       "      <td>6</td>\n",
       "      <td>0.667</td>\n",
       "      <td>1.0</td>\n",
       "      <td>1.0</td>\n",
       "      <td>0.0</td>\n",
       "      <td>7</td>\n",
       "      <td>71539.0</td>\n",
       "    </tr>\n",
       "    <tr>\n",
       "      <th>2</th>\n",
       "      <td>https://bj.lianjia.com/chengjiao/101086041636....</td>\n",
       "      <td>101086041636</td>\n",
       "      <td>116.561978</td>\n",
       "      <td>39.877145</td>\n",
       "      <td>1111040862969</td>\n",
       "      <td>2016-12-11</td>\n",
       "      <td>1271.0</td>\n",
       "      <td>48</td>\n",
       "      <td>1030.0</td>\n",
       "      <td>52021</td>\n",
       "      <td>...</td>\n",
       "      <td>4.0</td>\n",
       "      <td>2005</td>\n",
       "      <td>3</td>\n",
       "      <td>6</td>\n",
       "      <td>0.500</td>\n",
       "      <td>1.0</td>\n",
       "      <td>0.0</td>\n",
       "      <td>0.0</td>\n",
       "      <td>7</td>\n",
       "      <td>48160.0</td>\n",
       "    </tr>\n",
       "    <tr>\n",
       "      <th>3</th>\n",
       "      <td>https://bj.lianjia.com/chengjiao/101086406841....</td>\n",
       "      <td>101086406841</td>\n",
       "      <td>116.438010</td>\n",
       "      <td>40.076114</td>\n",
       "      <td>1111043185817</td>\n",
       "      <td>2016-09-30</td>\n",
       "      <td>965.0</td>\n",
       "      <td>138</td>\n",
       "      <td>297.5</td>\n",
       "      <td>22202</td>\n",
       "      <td>...</td>\n",
       "      <td>1.0</td>\n",
       "      <td>2008</td>\n",
       "      <td>1</td>\n",
       "      <td>6</td>\n",
       "      <td>0.273</td>\n",
       "      <td>1.0</td>\n",
       "      <td>0.0</td>\n",
       "      <td>0.0</td>\n",
       "      <td>6</td>\n",
       "      <td>51238.0</td>\n",
       "    </tr>\n",
       "    <tr>\n",
       "      <th>4</th>\n",
       "      <td>https://bj.lianjia.com/chengjiao/101086920653....</td>\n",
       "      <td>101086920653</td>\n",
       "      <td>116.428392</td>\n",
       "      <td>39.886229</td>\n",
       "      <td>1111027381174</td>\n",
       "      <td>2016-08-28</td>\n",
       "      <td>927.0</td>\n",
       "      <td>286</td>\n",
       "      <td>392.0</td>\n",
       "      <td>48396</td>\n",
       "      <td>...</td>\n",
       "      <td>4.0</td>\n",
       "      <td>1960</td>\n",
       "      <td>2</td>\n",
       "      <td>2</td>\n",
       "      <td>0.333</td>\n",
       "      <td>0.0</td>\n",
       "      <td>1.0</td>\n",
       "      <td>1.0</td>\n",
       "      <td>1</td>\n",
       "      <td>62588.0</td>\n",
       "    </tr>\n",
       "  </tbody>\n",
       "</table>\n",
       "<p>5 rows × 26 columns</p>\n",
       "</div>"
      ],
      "text/plain": [
       "                                                 url            id  \\\n",
       "0  https://bj.lianjia.com/chengjiao/101084782030....  101084782030   \n",
       "1  https://bj.lianjia.com/chengjiao/101086012217....  101086012217   \n",
       "2  https://bj.lianjia.com/chengjiao/101086041636....  101086041636   \n",
       "3  https://bj.lianjia.com/chengjiao/101086406841....  101086406841   \n",
       "4  https://bj.lianjia.com/chengjiao/101086920653....  101086920653   \n",
       "\n",
       "          Lng        Lat            Cid   tradeTime     DOM  followers  \\\n",
       "0  116.475489  40.019520  1111027376244  2016-08-09  1464.0        106   \n",
       "1  116.453917  39.881534  1111027381879  2016-07-28   903.0        126   \n",
       "2  116.561978  39.877145  1111040862969  2016-12-11  1271.0         48   \n",
       "3  116.438010  40.076114  1111043185817  2016-09-30   965.0        138   \n",
       "4  116.428392  39.886229  1111027381174  2016-08-28   927.0        286   \n",
       "\n",
       "   totalPrice  price  ...  buildingType constructionTime renovationCondition  \\\n",
       "0       415.0  31680  ...           1.0             2005                   3   \n",
       "1       575.0  43436  ...           1.0             2004                   4   \n",
       "2      1030.0  52021  ...           4.0             2005                   3   \n",
       "3       297.5  22202  ...           1.0             2008                   1   \n",
       "4       392.0  48396  ...           4.0             1960                   2   \n",
       "\n",
       "   buildingStructure ladderRatio elevator  fiveYearsProperty subway  district  \\\n",
       "0                  6       0.217      1.0                0.0    1.0         7   \n",
       "1                  6       0.667      1.0                1.0    0.0         7   \n",
       "2                  6       0.500      1.0                0.0    0.0         7   \n",
       "3                  6       0.273      1.0                0.0    0.0         6   \n",
       "4                  2       0.333      0.0                1.0    1.0         1   \n",
       "\n",
       "   communityAverage  \n",
       "0           56021.0  \n",
       "1           71539.0  \n",
       "2           48160.0  \n",
       "3           51238.0  \n",
       "4           62588.0  \n",
       "\n",
       "[5 rows x 26 columns]"
      ]
     },
     "execution_count": 2,
     "metadata": {},
     "output_type": "execute_result"
    }
   ],
   "source": [
    "# Reading the Data\n",
    "df =  pd.read_csv('house_prices.csv',encoding='gbk',low_memory=False)#, errors='ignore')\n",
    "# Shape of the Data\n",
    "print ('DATA',df.shape)\n",
    "df.head(5)"
   ]
  },
  {
   "cell_type": "code",
   "execution_count": 3,
   "metadata": {},
   "outputs": [
    {
     "data": {
      "text/plain": [
       "Index(['url', 'id', 'Lng', 'Lat', 'Cid', 'tradeTime', 'DOM', 'followers',\n",
       "       'totalPrice', 'price', 'square', 'livingRoom', 'drawingRoom', 'kitchen',\n",
       "       'bathRoom', 'floor', 'buildingType', 'constructionTime',\n",
       "       'renovationCondition', 'buildingStructure', 'ladderRatio', 'elevator',\n",
       "       'fiveYearsProperty', 'subway', 'district', 'communityAverage'],\n",
       "      dtype='object')"
      ]
     },
     "execution_count": 3,
     "metadata": {},
     "output_type": "execute_result"
    }
   ],
   "source": [
    "# Columns or Features or Variables\n",
    "df.columns"
   ]
  },
  {
   "cell_type": "code",
   "execution_count": 4,
   "metadata": {},
   "outputs": [
    {
     "data": {
      "text/plain": [
       "url                         0\n",
       "id                          0\n",
       "Lng                         0\n",
       "Lat                         0\n",
       "Cid                         0\n",
       "tradeTime                   0\n",
       "DOM                    157977\n",
       "followers                   0\n",
       "totalPrice                  0\n",
       "price                       0\n",
       "square                      0\n",
       "livingRoom                  0\n",
       "drawingRoom                 0\n",
       "kitchen                     0\n",
       "bathRoom                    0\n",
       "floor                       0\n",
       "buildingType             2021\n",
       "constructionTime            0\n",
       "renovationCondition         0\n",
       "buildingStructure           0\n",
       "ladderRatio                 0\n",
       "elevator                   32\n",
       "fiveYearsProperty          32\n",
       "subway                     32\n",
       "district                    0\n",
       "communityAverage          463\n",
       "dtype: int64"
      ]
     },
     "execution_count": 4,
     "metadata": {},
     "output_type": "execute_result"
    }
   ],
   "source": [
    "# Finding missing Values in each column or feature\n",
    "df.isnull().sum()"
   ]
  },
  {
   "cell_type": "code",
   "execution_count": 5,
   "metadata": {},
   "outputs": [
    {
     "name": "stdout",
     "output_type": "stream",
     "text": [
      "MAE: 25.080222455666036\n",
      "MSE: 2148.2762058534004\n",
      "R-squared: 0.19351571296106795\n"
     ]
    }
   ],
   "source": [
    "df = df[df['constructionTime']!='未知']\n",
    "X = df[['followers', 'constructionTime']]  # Predictor variables\n",
    "y = df['DOM']  # Target variable\n",
    "\n",
    "# Drop rows where 'DOM' is missing\n",
    "X = X[y.notnull()]\n",
    "y = y[y.notnull()]\n",
    "\n",
    "X_train, X_test, y_train, y_test = train_test_split(X, y, test_size=0.2, random_state=42)\n",
    "\n",
    "from sklearn.ensemble import RandomForestRegressor\n",
    "\n",
    "# Initialize the model\n",
    "model = RandomForestRegressor(random_state=42)\n",
    "\n",
    "# Fit the model\n",
    "model.fit(X_train, y_train)\n",
    "\n",
    "y_pred = model.predict(X_test)\n",
    "\n",
    "from sklearn.metrics import mean_absolute_error, mean_squared_error, r2_score\n",
    "\n",
    "mae = mean_absolute_error(y_test, y_pred)\n",
    "mse = mean_squared_error(y_test, y_pred)\n",
    "r2 = r2_score(y_test, y_pred)\n",
    "\n",
    "print(f'MAE: {mae}')\n",
    "print(f'MSE: {mse}')\n",
    "print(f'R-squared: {r2}')\n",
    "\n",
    "# Isolate the rows where 'DOM' is missing and the predictors are not missing\n",
    "X_missing = df.loc[df['DOM'].isnull() & df[['followers', 'constructionTime']].notnull().all(axis=1), ['followers', 'constructionTime']]\n",
    "\n",
    "# Predict the 'DOM' using the model\n",
    "predicted_DOM = model.predict(X_missing)\n",
    "\n",
    "# Fill in the missing 'DOM' values in the original DataFrame\n",
    "df.loc[df['DOM'].isnull(), 'DOM'] = predicted_DOM"
   ]
  },
  {
   "cell_type": "code",
   "execution_count": 6,
   "metadata": {},
   "outputs": [
    {
     "name": "stdout",
     "output_type": "stream",
     "text": [
      "DATA (297701, 17)\n"
     ]
    }
   ],
   "source": [
    "# Step 1: Remove variables with more than 50% missing data\n",
    "#df = df.drop(['DOM'], axis=1)\n",
    "# Step 2: Remove observations with any missing values\n",
    "df = df.dropna()\n",
    "# Step 3: Removing the columns 'kitchens', 'bathrooms', and 'drawingRooms'\n",
    "df.drop(['kitchen', 'bathRoom', 'drawingRoom', 'url', 'id', 'Cid', 'floor', 'buildingType', 'ladderRatio'], axis=1, inplace=True)\n",
    "# Step 4: Setting the number of living rooms to be within the range of 1 to 4\n",
    "df['livingRoom'] = pd.to_numeric(df['livingRoom'], errors='coerce')\n",
    "df['livingRoom'] = df['livingRoom'].clip(lower=1, upper=4)\n",
    "df.columns\n",
    "print (\"DATA\", df.shape)"
   ]
  },
  {
   "cell_type": "code",
   "execution_count": 7,
   "metadata": {},
   "outputs": [
    {
     "name": "stdout",
     "output_type": "stream",
     "text": [
      "DATA (297701, 18)\n"
     ]
    },
    {
     "data": {
      "text/html": [
       "<div>\n",
       "<style scoped>\n",
       "    .dataframe tbody tr th:only-of-type {\n",
       "        vertical-align: middle;\n",
       "    }\n",
       "\n",
       "    .dataframe tbody tr th {\n",
       "        vertical-align: top;\n",
       "    }\n",
       "\n",
       "    .dataframe thead th {\n",
       "        text-align: right;\n",
       "    }\n",
       "</style>\n",
       "<table border=\"1\" class=\"dataframe\">\n",
       "  <thead>\n",
       "    <tr style=\"text-align: right;\">\n",
       "      <th></th>\n",
       "      <th>Lng</th>\n",
       "      <th>Lat</th>\n",
       "      <th>tradeTime</th>\n",
       "      <th>DOM</th>\n",
       "      <th>followers</th>\n",
       "      <th>totalPrice</th>\n",
       "      <th>price</th>\n",
       "      <th>square</th>\n",
       "      <th>livingRoom</th>\n",
       "      <th>renovationCondition</th>\n",
       "      <th>buildingStructure</th>\n",
       "      <th>elevator</th>\n",
       "      <th>fiveYearsProperty</th>\n",
       "      <th>subway</th>\n",
       "      <th>district</th>\n",
       "      <th>communityAverage</th>\n",
       "      <th>distance</th>\n",
       "      <th>age</th>\n",
       "    </tr>\n",
       "  </thead>\n",
       "  <tbody>\n",
       "    <tr>\n",
       "      <th>0</th>\n",
       "      <td>116.475489</td>\n",
       "      <td>40.01952</td>\n",
       "      <td>2016-08-09</td>\n",
       "      <td>1464.0</td>\n",
       "      <td>106</td>\n",
       "      <td>415.0</td>\n",
       "      <td>31680</td>\n",
       "      <td>131.0</td>\n",
       "      <td>2</td>\n",
       "      <td>3</td>\n",
       "      <td>6</td>\n",
       "      <td>1.0</td>\n",
       "      <td>0.0</td>\n",
       "      <td>1.0</td>\n",
       "      <td>7</td>\n",
       "      <td>56021.0</td>\n",
       "      <td>13.873607</td>\n",
       "      <td>18</td>\n",
       "    </tr>\n",
       "  </tbody>\n",
       "</table>\n",
       "</div>"
      ],
      "text/plain": [
       "          Lng       Lat   tradeTime     DOM  followers  totalPrice  price  \\\n",
       "0  116.475489  40.01952  2016-08-09  1464.0        106       415.0  31680   \n",
       "\n",
       "   square  livingRoom  renovationCondition  buildingStructure  elevator  \\\n",
       "0   131.0           2                    3                  6       1.0   \n",
       "\n",
       "   fiveYearsProperty  subway  district  communityAverage   distance  age  \n",
       "0                0.0     1.0         7           56021.0  13.873607   18  "
      ]
     },
     "execution_count": 7,
     "metadata": {},
     "output_type": "execute_result"
    }
   ],
   "source": [
    "# Creating 'distance' feature\n",
    "# To calculate Distance Between Two Points on Earth \n",
    "from math import radians, cos, sin, asin, sqrt\n",
    "\n",
    "def haversine(lat1, lon1, lat2=39.916668, lon2=116.383331):\n",
    "    # Convert latitude and longitude from degrees to radians\n",
    "    lat1, lon1, lat2, lon2 = map(radians, [lat1, lon1, lat2, lon2])\n",
    "\n",
    "    # Haversine formula\n",
    "    dlon = lon2 - lon1\n",
    "    dlat = lat2 - lat1\n",
    "    a = sin(dlat/2)**2 + cos(lat1) * cos(lat2) * sin(dlon/2)**2\n",
    "    c = 2 * asin(sqrt(a))\n",
    "    r = 6371  # Radius of Earth in kilometers\n",
    "    return c * r\n",
    "\n",
    "df['distance'] = df.apply(lambda x: haversine(x['Lat'], x['Lng']), axis=1)\n",
    "df['constructionTime'] = df['constructionTime'].astype(int)\n",
    "df['age'] = 2023 - pd.to_numeric(df['constructionTime'], errors='coerce')\n",
    "# Drop the original 'constructionTime' column\n",
    "df.drop('constructionTime', axis=1, inplace=True)\n",
    "\n",
    "# Set minimum values\n",
    "min_price = 10000\n",
    "min_square = 20\n",
    "\n",
    "df['price'] = df['price'].clip(lower=min_price)\n",
    "df['square'] = df['square'].clip(lower=min_square)\n",
    "\n",
    "print ('DATA',df.shape)\n",
    "df.head(1)"
   ]
  },
  {
   "cell_type": "code",
   "execution_count": 8,
   "metadata": {},
   "outputs": [
    {
     "name": "stdout",
     "output_type": "stream",
     "text": [
      "DATA (297701, 18)\n",
      "The DATA (297701, 18)\n"
     ]
    },
    {
     "data": {
      "text/plain": [
       "Lng                    float64\n",
       "Lat                    float64\n",
       "tradeTime                int32\n",
       "DOM                      int32\n",
       "followers                int32\n",
       "totalPrice               int32\n",
       "price                    int64\n",
       "square                 float64\n",
       "livingRoom               int32\n",
       "renovationCondition      int32\n",
       "buildingStructure        int32\n",
       "elevator                 int32\n",
       "fiveYearsProperty        int32\n",
       "subway                   int32\n",
       "district                 int64\n",
       "communityAverage       float64\n",
       "distance               float64\n",
       "age                      int32\n",
       "dtype: object"
      ]
     },
     "execution_count": 8,
     "metadata": {},
     "output_type": "execute_result"
    }
   ],
   "source": [
    "# 'timeTrade' feature to year base only.\n",
    "df['tradeTime'] = pd.DatetimeIndex(df['tradeTime']).year\n",
    "\n",
    "# Converting features datatype to see outliers\n",
    "df['livingRoom'] = df['livingRoom'].astype(int)\n",
    "df['tradeTime'] = df['tradeTime'].astype(int)\n",
    "df['DOM'] = df['DOM'].astype(int)\n",
    "df['renovationCondition'] = df['renovationCondition'].astype(int)\n",
    "df['buildingStructure'] = df['buildingStructure'].astype(int)\n",
    "df['elevator'] = df['elevator'].astype(int)\n",
    "df['fiveYearsProperty'] = df['fiveYearsProperty'].astype(int)\n",
    "df['subway'] = df['subway'].astype(int)\n",
    "df['followers']  = df['followers'].astype(int)\n",
    "df['totalPrice']  = df['totalPrice'].astype(int)\n",
    "df['elevator']  = df['elevator'].astype(int)\n",
    "df['fiveYearsProperty']  = df['fiveYearsProperty'].astype(int)\n",
    "df['subway']  = df['subway'].astype(int)\n",
    "df['age']  = df['age'].astype(int)\n",
    "\n",
    "# Reseting the index\n",
    "df.reset_index(inplace=True)\n",
    "df.drop(['index'],axis=1,inplace=True)\n",
    "# Now the remaining data\n",
    "print (\"DATA\", df.shape)\n",
    "df.head()\n",
    "\n",
    "print ( \"The DATA\" , df.shape)\n",
    "df.dtypes"
   ]
  },
  {
   "cell_type": "code",
   "execution_count": 9,
   "metadata": {},
   "outputs": [
    {
     "name": "stdout",
     "output_type": "stream",
     "text": [
      "Original DataFrame shape: (297701, 19)\n",
      "DataFrame without outliers shape: (294759, 19)\n"
     ]
    }
   ],
   "source": [
    "from sklearn.ensemble import IsolationForest\n",
    "\n",
    "iso_forest = IsolationForest(n_estimators=100, contamination=0.01, random_state=42)\n",
    "\n",
    "# Fit the model\n",
    "iso_forest.fit(df[['price']])\n",
    "\n",
    "# Predict anomalies (1 for normal, -1 for anomaly)\n",
    "outliers = iso_forest.predict(df[['price']])\n",
    "\n",
    "# Add a column to your DataFrame to indicate outliers\n",
    "df['outlier'] = outliers\n",
    "\n",
    "# Filter out the outliers\n",
    "df_clean = df[df['outlier'] == 1]\n",
    "\n",
    "# Display the shape of the original and cleaned dataframes\n",
    "print(\"Original DataFrame shape:\", df.shape)\n",
    "print(\"DataFrame without outliers shape:\", df_clean.shape)"
   ]
  },
  {
   "cell_type": "code",
   "execution_count": 10,
   "metadata": {},
   "outputs": [],
   "source": [
    "# Selecting features and target variable\n",
    "X = df_clean[['tradeTime', 'DOM', 'followers', 'square', 'livingRoom',\n",
    "       'renovationCondition', 'buildingStructure',\n",
    "       'elevator', 'fiveYearsProperty', 'subway', 'district',\n",
    "       'communityAverage', 'distance', 'age']]\n",
    "\n",
    "# Standardized the Features\n",
    "X = np.asarray(X)\n",
    "X = preprocessing.StandardScaler().fit(X).transform(X)  \n",
    "\n",
    "# Selecting Target Feature\n",
    "y = df_clean['price']\n",
    "\n",
    "# Splitting the dataset into training and testing sets\n",
    "X_train, X_test, y_train, y_test = train_test_split(X, y, test_size=0.2, random_state=42)"
   ]
  },
  {
   "cell_type": "code",
   "execution_count": 11,
   "metadata": {},
   "outputs": [
    {
     "name": "stdout",
     "output_type": "stream",
     "text": [
      "RMSLE 0.13547\n"
     ]
    }
   ],
   "source": [
    "# Initialize the XGBoost\n",
    "xg_reg = xgb.XGBRegressor(objective ='reg:squarederror', min_child_weight = 2, subsample = 1,\n",
    "                          colsample_bytree = 0.8,\n",
    "                          learning_rate = 0.2, n_estimators = 500,\n",
    "                         reg_lambda = 0.45, reg_alpha = 0, gamma = 0.5)\n",
    "\n",
    "# Train the model\n",
    "xg_reg.fit(X_train,y_train)\n",
    "\n",
    "# Making predictions\n",
    "y_pred = xg_reg.predict(X_test)\n",
    "\n",
    "# Evaluating the model\n",
    "print (\"RMSLE {:,.5f}\".format(np.sqrt(mean_squared_log_error( y_pred, y_test))))"
   ]
  },
  {
   "cell_type": "code",
   "execution_count": 12,
   "metadata": {},
   "outputs": [
    {
     "name": "stdout",
     "output_type": "stream",
     "text": [
      "100%|██████████| 100/100 [05:42<00:00,  3.42s/trial, best loss: 31538936.072436783]\n"
     ]
    }
   ],
   "source": [
    "from hyperopt import hp, fmin, tpe, STATUS_OK, Trials\n",
    "from sklearn.metrics import mean_squared_error\n",
    "\n",
    "space = {\n",
    "    'min_child_weight': hp.quniform('min_child_weight', 1, 10, 1),\n",
    "    'subsample': hp.uniform('subsample', 0.5, 1),\n",
    "    'colsample_bytree': hp.uniform('colsample_bytree', 0.5, 1),\n",
    "    'learning_rate': hp.uniform('learning_rate', 0.01, 0.3),\n",
    "    'n_estimators': hp.choice('n_estimators', range(100, 1000)),\n",
    "    'reg_lambda': hp.uniform('reg_lambda', 0, 1),\n",
    "    'reg_alpha': hp.uniform('reg_alpha', 0, 1),\n",
    "    'gamma': hp.uniform('gamma', 0, 1)\n",
    "}\n",
    "def objective(space):\n",
    "    model = xgb.XGBRegressor(min_child_weight=int(space['min_child_weight']),\n",
    "                            subsample=space['subsample'],\n",
    "                            colsample_bytree=space['colsample_bytree'],\n",
    "                            learning_rate=space['learning_rate'],\n",
    "                            n_estimators=int(space['n_estimators']),\n",
    "                            reg_lambda=space['reg_lambda'],\n",
    "                            reg_alpha=space['reg_alpha'],\n",
    "                            gamma=space['gamma'])\n",
    "    model.fit(X_train, y_train)\n",
    "    y_pred = model.predict(X_test)\n",
    "    loss = mean_squared_error(y_test, y_pred)\n",
    "    return {'loss': loss, 'status': STATUS_OK}\n",
    "\n",
    "trials = Trials()\n",
    "best = fmin(fn=objective, space=space, algo=tpe.suggest, max_evals=100, trials=trials)"
   ]
  },
  {
   "cell_type": "code",
   "execution_count": 13,
   "metadata": {},
   "outputs": [
    {
     "name": "stdout",
     "output_type": "stream",
     "text": [
      "Best Parameters: {'colsample_bytree': 0.9685647459869511, 'gamma': 0.25150083611652824, 'learning_rate': 0.15682762805689904, 'min_child_weight': 3.0, 'n_estimators': 964, 'reg_alpha': 0.0794086208565698, 'reg_lambda': 0.5083039666810512, 'subsample': 0.8507974083684748}\n"
     ]
    }
   ],
   "source": [
    "from hyperopt import space_eval\n",
    "\n",
    "best_parameters = space_eval(space, best)\n",
    "print(\"Best Parameters:\", best_parameters)"
   ]
  },
  {
   "cell_type": "code",
   "execution_count": 14,
   "metadata": {},
   "outputs": [
    {
     "name": "stdout",
     "output_type": "stream",
     "text": [
      "RMSLE 0.13369\n"
     ]
    }
   ],
   "source": [
    "# Initialize the XGBoost\n",
    "\n",
    "xg_reg = xgb.XGBRegressor(objective ='reg:squarederror', \n",
    "                          min_child_weight = best_parameters['min_child_weight'], \n",
    "                          subsample = best_parameters['subsample'],\n",
    "                          colsample_bytree = best_parameters['colsample_bytree'],\n",
    "                          learning_rate = best_parameters['learning_rate'], \n",
    "                          n_estimators = best_parameters['n_estimators'],\n",
    "                          reg_lambda = best_parameters['reg_lambda'], \n",
    "                          reg_alpha = best_parameters['reg_alpha'], \n",
    "                          gamma = best_parameters['gamma'])\n",
    "\n",
    "# Train the model\n",
    "xg_reg.fit(X_train,y_train)\n",
    "\n",
    "# Making predictions\n",
    "y_pred = xg_reg.predict(X_test)\n",
    "\n",
    "# Evaluating the model\n",
    "print (\"RMSLE {:,.5f}\".format(np.sqrt(mean_squared_log_error( y_pred, y_test))))"
   ]
  },
  {
   "cell_type": "code",
   "execution_count": 16,
   "metadata": {},
   "outputs": [
    {
     "data": {
      "image/png": "[encoded data removed]",
      "text/plain": [
       "<Figure size 640x480 with 1 Axes>"
      ]
     },
     "metadata": {},
     "output_type": "display_data"
    }
   ],
   "source": [
    "import matplotlib.pyplot as plt\n",
    "\n",
    "# Get feature importances\n",
    "feature_importances = xg_reg.feature_importances_\n",
    "\n",
    "feature_names = ['tradeTime', 'DOM', 'followers', 'square', 'livingRoom',\n",
    "       'renovationCondition', 'buildingStructure',\n",
    "       'elevator', 'fiveYearsProperty', 'subway', 'district',\n",
    "       'communityAverage', 'distance', 'age']\n",
    "importances_series = pd.Series(feature_importances, index=feature_names)\n",
    "\n",
    "# Sort the features by importance\n",
    "importances_series = importances_series.sort_values(ascending=False)\n",
    "\n",
    "# Plot\n",
    "importances_series.plot(kind='bar', color='skyblue')\n",
    "plt.title('Feature Importances')\n",
    "plt.xlabel('Features')\n",
    "plt.ylabel('Importance')\n",
    "plt.show()"
   ]
  },
  {
   "cell_type": "code",
   "execution_count": 17,
   "metadata": {},
   "outputs": [
    {
     "name": "stdout",
     "output_type": "stream",
     "text": [
      "RMSLE 0.13784\n"
     ]
    }
   ],
   "source": [
    "from sklearn.feature_selection import RFE\n",
    "\n",
    "# Initialize the XGBoost\n",
    "xg_reg = xgb.XGBRegressor(objective ='reg:squarederror', \n",
    "                          min_child_weight = best_parameters['min_child_weight'], \n",
    "                          subsample = best_parameters['subsample'],\n",
    "                          colsample_bytree = best_parameters['colsample_bytree'],\n",
    "                          learning_rate = best_parameters['learning_rate'], \n",
    "                          n_estimators = best_parameters['n_estimators'],\n",
    "                          reg_lambda = best_parameters['reg_lambda'], \n",
    "                          reg_alpha = best_parameters['reg_alpha'], \n",
    "                          gamma = best_parameters['gamma'])\n",
    "\n",
    "# Initialize RFE with the XGBoost model and desired number of features\n",
    "num_features_to_select = 10  # Adjust this to the number of features you want\n",
    "rfe = RFE(estimator=xg_reg, n_features_to_select=num_features_to_select)\n",
    "\n",
    "# Fit RFE\n",
    "rfe.fit(X_train, y_train)\n",
    "\n",
    "# Transform training and testing sets\n",
    "X_train_rfe = rfe.transform(X_train)\n",
    "X_test_rfe = rfe.transform(X_test)\n",
    "\n",
    "# You can also retrieve the ranking of the features\n",
    "ranking = rfe.ranking_\n",
    "\n",
    "# Fit the model with the selected features for further modeling\n",
    "xg_reg.fit(X_train_rfe, y_train)\n",
    "\n",
    "# Now, xgb_reg can be used for predictions and further analysis\n",
    "y_pred = xg_reg.predict(X_test_rfe)\n",
    "\n",
    "# Evaluating the model\n",
    "print (\"RMSLE {:,.5f}\".format(np.sqrt(mean_squared_log_error( y_pred, y_test))))"
   ]
  }
 ],
 "metadata": {
  "kernelspec": {
   "display_name": "Python 3",
   "language": "python",
   "name": "python3"
  },
  "language_info": {
   "codemirror_mode": {
    "name": "ipython",
    "version": 3
   },
   "file_extension": ".py",
   "mimetype": "text/x-python",
   "name": "python",
   "nbconvert_exporter": "python",
   "pygments_lexer": "ipython3",
   "version": "3.10.1"
  }
 },
 "nbformat": 4,
 "nbformat_minor": 2
}
